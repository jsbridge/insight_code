{
 "cells": [
  {
   "cell_type": "code",
   "execution_count": 1,
   "metadata": {},
   "outputs": [
    {
     "name": "stderr",
     "output_type": "stream",
     "text": [
      "Using TensorFlow backend.\n",
      "/Users/joanna/anaconda2/envs/py37/lib/python3.7/site-packages/tensorflow/python/framework/dtypes.py:526: FutureWarning: Passing (type, 1) or '1type' as a synonym of type is deprecated; in a future version of numpy, it will be understood as (type, (1,)) / '(1,)type'.\n",
      "  _np_qint8 = np.dtype([(\"qint8\", np.int8, 1)])\n",
      "/Users/joanna/anaconda2/envs/py37/lib/python3.7/site-packages/tensorflow/python/framework/dtypes.py:527: FutureWarning: Passing (type, 1) or '1type' as a synonym of type is deprecated; in a future version of numpy, it will be understood as (type, (1,)) / '(1,)type'.\n",
      "  _np_quint8 = np.dtype([(\"quint8\", np.uint8, 1)])\n",
      "/Users/joanna/anaconda2/envs/py37/lib/python3.7/site-packages/tensorflow/python/framework/dtypes.py:528: FutureWarning: Passing (type, 1) or '1type' as a synonym of type is deprecated; in a future version of numpy, it will be understood as (type, (1,)) / '(1,)type'.\n",
      "  _np_qint16 = np.dtype([(\"qint16\", np.int16, 1)])\n",
      "/Users/joanna/anaconda2/envs/py37/lib/python3.7/site-packages/tensorflow/python/framework/dtypes.py:529: FutureWarning: Passing (type, 1) or '1type' as a synonym of type is deprecated; in a future version of numpy, it will be understood as (type, (1,)) / '(1,)type'.\n",
      "  _np_quint16 = np.dtype([(\"quint16\", np.uint16, 1)])\n",
      "/Users/joanna/anaconda2/envs/py37/lib/python3.7/site-packages/tensorflow/python/framework/dtypes.py:530: FutureWarning: Passing (type, 1) or '1type' as a synonym of type is deprecated; in a future version of numpy, it will be understood as (type, (1,)) / '(1,)type'.\n",
      "  _np_qint32 = np.dtype([(\"qint32\", np.int32, 1)])\n",
      "/Users/joanna/anaconda2/envs/py37/lib/python3.7/site-packages/tensorflow/python/framework/dtypes.py:535: FutureWarning: Passing (type, 1) or '1type' as a synonym of type is deprecated; in a future version of numpy, it will be understood as (type, (1,)) / '(1,)type'.\n",
      "  np_resource = np.dtype([(\"resource\", np.ubyte, 1)])\n"
     ]
    }
   ],
   "source": [
    "from keras.preprocessing.image import ImageDataGenerator \n",
    "from keras.models import Sequential \n",
    "from keras.layers import Conv2D, MaxPooling2D \n",
    "from keras.layers import Activation, Dropout, Flatten, Dense \n",
    "from keras import backend as K "
   ]
  },
  {
   "cell_type": "code",
   "execution_count": 2,
   "metadata": {},
   "outputs": [],
   "source": [
    "img_width, img_height = 400, 400\n",
    "  \n",
    "train_data_dir = './Figaro1k/Original/Training'\n",
    "validation_data_dir = './Figaro1k/Original/Testing'\n",
    "nb_train_samples = 480 \n",
    "nb_validation_samples = 120\n",
    "epochs = 50\n",
    "batch_size = 16"
   ]
  },
  {
   "cell_type": "code",
   "execution_count": 3,
   "metadata": {},
   "outputs": [],
   "source": [
    "if K.image_data_format() == 'channels_first': \n",
    "    input_shape = (3, img_width, img_height) \n",
    "else: \n",
    "    input_shape = (img_width, img_height, 3) "
   ]
  },
  {
   "cell_type": "code",
   "execution_count": 44,
   "metadata": {},
   "outputs": [],
   "source": [
    "\n",
    "model = Sequential()\n",
    "model.add(Conv2D(32, (3, 3), input_shape=input_shape))\n",
    "model.add(Activation('relu'))\n",
    "model.add(MaxPooling2D(pool_size=(2, 2)))\n",
    "\n",
    "model.add(Conv2D(32, (3, 3)))\n",
    "model.add(Activation('relu'))\n",
    "model.add(MaxPooling2D(pool_size=(2, 2)))\n",
    "\n",
    "model.add(Conv2D(64, (3, 3)))\n",
    "model.add(Activation('relu'))\n",
    "model.add(MaxPooling2D(pool_size=(2, 2)))\n",
    "\n",
    "model.add(Flatten())\n",
    "model.add(Dense(64))\n",
    "model.add(Activation('relu'))\n",
    "model.add(Dropout(0.5))\n",
    "model.add(Dense(4))\n",
    "model.add(Activation('softmax'))\n",
    "\n",
    "model.compile(loss='categorical_crossentropy',\n",
    "              optimizer='rmsprop',\n",
    "              metrics=['accuracy'])"
   ]
  },
  {
   "cell_type": "code",
   "execution_count": 46,
   "metadata": {},
   "outputs": [
    {
     "name": "stdout",
     "output_type": "stream",
     "text": [
      "Found 480 images belonging to 4 classes.\n",
      "Found 120 images belonging to 4 classes.\n",
      "Epoch 1/50\n",
      "30/30 [==============================] - 54s 2s/step - loss: 2.0464 - accuracy: 0.2521 - val_loss: 1.3711 - val_accuracy: 0.2857\n",
      "Epoch 2/50\n",
      "30/30 [==============================] - 51s 2s/step - loss: 1.4020 - accuracy: 0.3042 - val_loss: 1.5842 - val_accuracy: 0.2308\n",
      "Epoch 3/50\n",
      "30/30 [==============================] - 50s 2s/step - loss: 1.3559 - accuracy: 0.3729 - val_loss: 1.3293 - val_accuracy: 0.3462\n",
      "Epoch 4/50\n",
      "30/30 [==============================] - 50s 2s/step - loss: 1.3001 - accuracy: 0.3938 - val_loss: 1.2932 - val_accuracy: 0.3654\n",
      "Epoch 5/50\n",
      "30/30 [==============================] - 50s 2s/step - loss: 1.3302 - accuracy: 0.4062 - val_loss: 1.3696 - val_accuracy: 0.2788\n",
      "Epoch 6/50\n",
      "30/30 [==============================] - 50s 2s/step - loss: 1.2740 - accuracy: 0.4062 - val_loss: 1.2542 - val_accuracy: 0.3654\n",
      "Epoch 7/50\n",
      "30/30 [==============================] - 50s 2s/step - loss: 1.2951 - accuracy: 0.4083 - val_loss: 1.7788 - val_accuracy: 0.3462\n",
      "Epoch 8/50\n",
      "30/30 [==============================] - 51s 2s/step - loss: 1.2171 - accuracy: 0.4292 - val_loss: 1.0761 - val_accuracy: 0.3846\n",
      "Epoch 9/50\n",
      "30/30 [==============================] - 50s 2s/step - loss: 1.2264 - accuracy: 0.4604 - val_loss: 1.4047 - val_accuracy: 0.3750\n",
      "Epoch 10/50\n",
      "30/30 [==============================] - 50s 2s/step - loss: 1.2887 - accuracy: 0.4708 - val_loss: 1.1186 - val_accuracy: 0.4231\n",
      "Epoch 11/50\n",
      "30/30 [==============================] - 50s 2s/step - loss: 1.1592 - accuracy: 0.4521 - val_loss: 1.5872 - val_accuracy: 0.3750\n",
      "Epoch 12/50\n",
      "30/30 [==============================] - 50s 2s/step - loss: 1.1385 - accuracy: 0.5188 - val_loss: 1.9754 - val_accuracy: 0.3077\n",
      "Epoch 13/50\n",
      "30/30 [==============================] - 54s 2s/step - loss: 1.1041 - accuracy: 0.5271 - val_loss: 2.0402 - val_accuracy: 0.3942\n",
      "Epoch 14/50\n",
      "30/30 [==============================] - 61s 2s/step - loss: 1.0736 - accuracy: 0.5271 - val_loss: 1.3409 - val_accuracy: 0.3462\n",
      "Epoch 15/50\n",
      "30/30 [==============================] - 53s 2s/step - loss: 1.0603 - accuracy: 0.5437 - val_loss: 1.5425 - val_accuracy: 0.4423\n",
      "Epoch 16/50\n",
      "30/30 [==============================] - 53s 2s/step - loss: 1.0418 - accuracy: 0.5542 - val_loss: 1.0026 - val_accuracy: 0.4423\n",
      "Epoch 17/50\n",
      "30/30 [==============================] - 53s 2s/step - loss: 1.0017 - accuracy: 0.5688 - val_loss: 1.7040 - val_accuracy: 0.3929\n",
      "Epoch 18/50\n",
      "30/30 [==============================] - 54s 2s/step - loss: 1.0254 - accuracy: 0.5625 - val_loss: 1.0661 - val_accuracy: 0.4615\n",
      "Epoch 19/50\n",
      "30/30 [==============================] - 54s 2s/step - loss: 0.9808 - accuracy: 0.5583 - val_loss: 1.5318 - val_accuracy: 0.4519\n",
      "Epoch 20/50\n",
      "30/30 [==============================] - 55s 2s/step - loss: 0.9816 - accuracy: 0.5854 - val_loss: 1.3606 - val_accuracy: 0.3942\n",
      "Epoch 21/50\n",
      "30/30 [==============================] - 51s 2s/step - loss: 0.9780 - accuracy: 0.5896 - val_loss: 0.9169 - val_accuracy: 0.4327\n",
      "Epoch 22/50\n",
      "30/30 [==============================] - 50s 2s/step - loss: 0.9501 - accuracy: 0.5938 - val_loss: 1.1820 - val_accuracy: 0.5000\n",
      "Epoch 23/50\n",
      "30/30 [==============================] - 53s 2s/step - loss: 0.9739 - accuracy: 0.6000 - val_loss: 1.6074 - val_accuracy: 0.4615\n",
      "Epoch 24/50\n",
      "30/30 [==============================] - 53s 2s/step - loss: 0.8767 - accuracy: 0.6396 - val_loss: 2.8481 - val_accuracy: 0.4519\n",
      "Epoch 25/50\n",
      "30/30 [==============================] - 53s 2s/step - loss: 0.8698 - accuracy: 0.6583 - val_loss: 0.8936 - val_accuracy: 0.5089\n",
      "Epoch 26/50\n",
      "30/30 [==============================] - 50s 2s/step - loss: 0.8761 - accuracy: 0.6375 - val_loss: 0.8226 - val_accuracy: 0.4327\n",
      "Epoch 27/50\n",
      "30/30 [==============================] - 53s 2s/step - loss: 0.8388 - accuracy: 0.6604 - val_loss: 1.6869 - val_accuracy: 0.4519\n",
      "Epoch 28/50\n",
      "30/30 [==============================] - 51s 2s/step - loss: 0.8355 - accuracy: 0.6542 - val_loss: 2.3688 - val_accuracy: 0.4519\n",
      "Epoch 29/50\n",
      "30/30 [==============================] - 50s 2s/step - loss: 0.8314 - accuracy: 0.6521 - val_loss: 1.6520 - val_accuracy: 0.5096\n",
      "Epoch 30/50\n",
      "30/30 [==============================] - 50s 2s/step - loss: 0.8227 - accuracy: 0.6625 - val_loss: 0.8518 - val_accuracy: 0.5096\n",
      "Epoch 31/50\n",
      "30/30 [==============================] - 52s 2s/step - loss: 0.7892 - accuracy: 0.6646 - val_loss: 1.9187 - val_accuracy: 0.4423\n",
      "Epoch 32/50\n",
      "30/30 [==============================] - 54s 2s/step - loss: 0.7473 - accuracy: 0.7000 - val_loss: 0.8770 - val_accuracy: 0.4904\n",
      "Epoch 33/50\n",
      "30/30 [==============================] - 54s 2s/step - loss: 0.7284 - accuracy: 0.6979 - val_loss: 1.6210 - val_accuracy: 0.4732\n",
      "Epoch 34/50\n",
      "30/30 [==============================] - 52s 2s/step - loss: 0.8260 - accuracy: 0.6896 - val_loss: 1.1728 - val_accuracy: 0.5192\n",
      "Epoch 35/50\n",
      "30/30 [==============================] - 52s 2s/step - loss: 0.6923 - accuracy: 0.7146 - val_loss: 1.4991 - val_accuracy: 0.5288\n",
      "Epoch 36/50\n",
      "30/30 [==============================] - 69s 2s/step - loss: 0.7134 - accuracy: 0.7229 - val_loss: 1.0619 - val_accuracy: 0.5481\n",
      "Epoch 37/50\n",
      "30/30 [==============================] - 56s 2s/step - loss: 0.6490 - accuracy: 0.7312 - val_loss: 2.2350 - val_accuracy: 0.4904\n",
      "Epoch 38/50\n",
      "30/30 [==============================] - 53s 2s/step - loss: 0.7007 - accuracy: 0.7542 - val_loss: 0.9831 - val_accuracy: 0.4904\n",
      "Epoch 39/50\n",
      "30/30 [==============================] - 50s 2s/step - loss: 0.6363 - accuracy: 0.7479 - val_loss: 2.2930 - val_accuracy: 0.4423\n",
      "Epoch 40/50\n",
      "30/30 [==============================] - 51s 2s/step - loss: 0.6175 - accuracy: 0.7375 - val_loss: 0.7945 - val_accuracy: 0.5000\n",
      "Epoch 41/50\n",
      "30/30 [==============================] - 54s 2s/step - loss: 0.6609 - accuracy: 0.7542 - val_loss: 1.1402 - val_accuracy: 0.5089\n",
      "Epoch 42/50\n",
      "30/30 [==============================] - 59s 2s/step - loss: 0.6164 - accuracy: 0.7688 - val_loss: 4.3328 - val_accuracy: 0.4712\n",
      "Epoch 43/50\n",
      "30/30 [==============================] - 52s 2s/step - loss: 0.6749 - accuracy: 0.7437 - val_loss: 2.2765 - val_accuracy: 0.4808\n",
      "Epoch 44/50\n",
      "30/30 [==============================] - 54s 2s/step - loss: 0.6927 - accuracy: 0.7375 - val_loss: 1.6098 - val_accuracy: 0.4904\n",
      "Epoch 45/50\n",
      "30/30 [==============================] - 59s 2s/step - loss: 0.6382 - accuracy: 0.7396 - val_loss: 0.7281 - val_accuracy: 0.4231\n",
      "Epoch 46/50\n",
      "30/30 [==============================] - 54s 2s/step - loss: 0.6016 - accuracy: 0.7458 - val_loss: 1.3203 - val_accuracy: 0.4904\n",
      "Epoch 47/50\n",
      "30/30 [==============================] - 53s 2s/step - loss: 0.6134 - accuracy: 0.7396 - val_loss: 1.3665 - val_accuracy: 0.4327\n",
      "Epoch 48/50\n",
      "30/30 [==============================] - 51s 2s/step - loss: 0.6050 - accuracy: 0.7563 - val_loss: 2.3714 - val_accuracy: 0.4231\n",
      "Epoch 49/50\n",
      "30/30 [==============================] - 54s 2s/step - loss: 0.6192 - accuracy: 0.7479 - val_loss: 1.9802 - val_accuracy: 0.4107\n",
      "Epoch 50/50\n",
      "30/30 [==============================] - 52s 2s/step - loss: 0.6757 - accuracy: 0.7417 - val_loss: 1.7338 - val_accuracy: 0.4712\n"
     ]
    },
    {
     "data": {
      "text/plain": [
       "<keras.callbacks.callbacks.History at 0x14a714b90>"
      ]
     },
     "execution_count": 46,
     "metadata": {},
     "output_type": "execute_result"
    }
   ],
   "source": [
    "train_datagen = ImageDataGenerator( \n",
    "    rescale=1. / 255, \n",
    "    shear_range=0.2, \n",
    "    zoom_range=0.2, \n",
    "    horizontal_flip=True) \n",
    "  \n",
    "test_datagen = ImageDataGenerator(rescale=1. / 255) \n",
    "  \n",
    "train_generator = train_datagen.flow_from_directory( \n",
    "    train_data_dir, \n",
    "    target_size=(img_width, img_height), \n",
    "    batch_size=batch_size, \n",
    "    class_mode='categorical') \n",
    "  \n",
    "validation_generator = test_datagen.flow_from_directory( \n",
    "    validation_data_dir, \n",
    "    target_size=(img_width, img_height), \n",
    "    batch_size=batch_size, \n",
    "    class_mode='categorical') \n",
    "  \n",
    "model.fit_generator( \n",
    "    train_generator, \n",
    "    steps_per_epoch=nb_train_samples // batch_size, \n",
    "    epochs=epochs, \n",
    "    validation_data=validation_generator, \n",
    "    validation_steps=nb_validation_samples // batch_size) \n"
   ]
  },
  {
   "cell_type": "code",
   "execution_count": 47,
   "metadata": {},
   "outputs": [],
   "source": [
    "model.save_weights('model_masks_saved.h5') "
   ]
  },
  {
   "cell_type": "code",
   "execution_count": 6,
   "metadata": {},
   "outputs": [
    {
     "ename": "NameError",
     "evalue": "name 'train_generator' is not defined",
     "output_type": "error",
     "traceback": [
      "\u001b[0;31m---------------------------------------------------------------------------\u001b[0m",
      "\u001b[0;31mNameError\u001b[0m                                 Traceback (most recent call last)",
      "\u001b[0;32m<ipython-input-6-3014c16b7266>\u001b[0m in \u001b[0;36m<module>\u001b[0;34m\u001b[0m\n\u001b[0;32m----> 1\u001b[0;31m \u001b[0mclasses\u001b[0m \u001b[0;34m=\u001b[0m \u001b[0mtrain_generator\u001b[0m\u001b[0;34m.\u001b[0m\u001b[0mclass_indices\u001b[0m\u001b[0;34m\u001b[0m\u001b[0;34m\u001b[0m\u001b[0m\n\u001b[0m\u001b[1;32m      2\u001b[0m \u001b[0mprint\u001b[0m\u001b[0;34m(\u001b[0m\u001b[0mclasses\u001b[0m\u001b[0;34m)\u001b[0m\u001b[0;34m\u001b[0m\u001b[0;34m\u001b[0m\u001b[0m\n",
      "\u001b[0;31mNameError\u001b[0m: name 'train_generator' is not defined"
     ]
    }
   ],
   "source": [
    "classes = train_generator.class_indices\n",
    "print(classes)"
   ]
  },
  {
   "cell_type": "code",
   "execution_count": 5,
   "metadata": {},
   "outputs": [],
   "source": [
    "import os\n",
    "import numpy as np\n",
    "from sklearn.metrics import confusion_matrix\n",
    "from keras.preprocessing import image"
   ]
  },
  {
   "cell_type": "code",
   "execution_count": 7,
   "metadata": {},
   "outputs": [
    {
     "name": "stdout",
     "output_type": "stream",
     "text": [
      "[[12  5  3 10]\n",
      " [ 5 19  2  4]\n",
      " [ 1  5 13 11]\n",
      " [ 7  4  6 13]]\n"
     ]
    }
   ],
   "source": [
    "if K.image_data_format() == 'channels_first':\n",
    "    input_shape = (3, img_width, img_height)\n",
    "else:\n",
    "    input_shape = (img_width, img_height, 3)\n",
    "\n",
    "#compile the 3-layer CNN\n",
    "model = Sequential()\n",
    "model.add(Conv2D(32, (3, 3), input_shape=input_shape))\n",
    "model.add(Activation('relu'))\n",
    "model.add(MaxPooling2D(pool_size=(2, 2)))\n",
    "\n",
    "model.add(Conv2D(32, (3, 3)))\n",
    "model.add(Activation('relu'))\n",
    "model.add(MaxPooling2D(pool_size=(2, 2)))\n",
    "\n",
    "model.add(Conv2D(64, (3, 3)))\n",
    "model.add(Activation('relu'))\n",
    "model.add(MaxPooling2D(pool_size=(2, 2)))\n",
    "\n",
    "model.add(Flatten())\n",
    "model.add(Dense(64))\n",
    "model.add(Activation('relu'))\n",
    "model.add(Dropout(0.5))\n",
    "model.add(Dense(4))\n",
    "model.add(Activation('softmax'))\n",
    "\n",
    "model.compile(loss='categorical_crossentropy',\n",
    "              optimizer='rmsprop',\n",
    "              metrics=['accuracy'])\n",
    "\n",
    "#load weights into new model\n",
    "model.load_weights('model_saved.h5')\n",
    "\n",
    "\n",
    "#GENERATE CONFUSION MATRIX, ITERATE OVER ALL TEST IMAGES\n",
    "#path to folder where test images are located\n",
    "path = './Figaro1k/Original/Testing/'\n",
    "files = os.listdir(path)\n",
    "\n",
    "y_true = [] #list of ground truth labels, will be plugged into sklearn confusion matrix\n",
    "y_pred = [] #list of predicted labels\n",
    "dict_labels = {0: 'curly', 1: 'kinky', 2: 'straight', 3: 'wavy'}\n",
    "\n",
    "#iterate over every subfolder, and every image in each subfolder\n",
    "#subfolders correspond to each class\n",
    "for file in files:\n",
    "    if os.path.isdir(os.path.join(path, file)):\n",
    "        label_true = file #label all files in this folder as name of folder\n",
    "        path_subfolder = path + file\n",
    "        subfiles = os.listdir(path_subfolder) #list of all files in subfolder\n",
    "        for subfile in subfiles:\n",
    "            if subfile == '.DS_Store':\n",
    "                continue\n",
    "            img_path = os.path.join(path_subfolder, subfile)\n",
    "            #load image\n",
    "            img = image.load_img(img_path, target_size = (img_width, img_height))\n",
    "            img_tensor = image.img_to_array(img)\n",
    "            img_tensor = np.expand_dims(img_tensor, axis=0)\n",
    "            img_tensor /= 255\n",
    "\n",
    "            pred = model.predict(img_tensor) #make prediction\n",
    "            label_pred = dict_labels[np.argmax(pred[0])]\n",
    "\n",
    "            y_true.append(label_true) #append true label\n",
    "            y_pred.append(label_pred) #append predicted label\n",
    "\n",
    "\n",
    "#generate, print the confusion matrix\n",
    "cm = confusion_matrix(y_true, y_pred, labels=['curly','kinky','straight', 'wavy'])\n",
    "print(cm)"
   ]
  },
  {
   "cell_type": "code",
   "execution_count": 8,
   "metadata": {},
   "outputs": [],
   "source": [
    "import matplotlib.pyplot as plt\n",
    "import numpy as np"
   ]
  },
  {
   "cell_type": "code",
   "execution_count": 17,
   "metadata": {},
   "outputs": [
    {
     "name": "stdout",
     "output_type": "stream",
     "text": [
      "[[13  6  4  7]\n",
      " [11 13  5  1]\n",
      " [ 4  2 19  5]\n",
      " [10  3  5 12]]\n"
     ]
    }
   ],
   "source": [
    "print(np.flipud(np.fliplr(cm)))"
   ]
  },
  {
   "cell_type": "code",
   "execution_count": 22,
   "metadata": {},
   "outputs": [
    {
     "data": {
      "image/png": "[encoded data removed]",
      "text/plain": [
       "<Figure size 720x720 with 2 Axes>"
      ]
     },
     "metadata": {
      "needs_background": "light"
     },
     "output_type": "display_data"
    }
   ],
   "source": [
    "fig, ax = plt.subplots(figsize=(10,10))\n",
    "im=ax.imshow(cm[::-1], origin='upper', cmap='YlGn')\n",
    "ax.set_title('Confusion Matrix', fontsize = 16, y =1.1)\n",
    "for (j,i),label in np.ndenumerate(np.flipud(cm)):\n",
    "    ax.text(i,j,label,ha='center',va='center', fontsize=14)\n",
    "plt.xticks([0,1,2,3], ('curly', 'kinky', 'straight', 'wavy'), fontsize=14)\n",
    "plt.yticks([0,1,2,3], ('wavy', 'straight', 'kinky', 'curly'), fontsize=14)\n",
    "ax.set_ylim(-0.5, 3.5)\n",
    "ax.xaxis.set_ticks_position('top')\n",
    "ax.xaxis.set_label_position('top')\n",
    "cb = plt.colorbar(im)\n",
    "cb.ax.tick_params(labelsize=14) \n",
    "plt.savefig('confusion_matrix.pdf')\n",
    "plt.show()"
   ]
  },
  {
   "cell_type": "code",
   "execution_count": null,
   "metadata": {},
   "outputs": [],
   "source": []
  },
  {
   "cell_type": "code",
   "execution_count": null,
   "metadata": {},
   "outputs": [],
   "source": []
  }
 ],
 "metadata": {
  "kernelspec": {
   "display_name": "Python 3",
   "language": "python",
   "name": "python3"
  },
  "language_info": {
   "codemirror_mode": {
    "name": "ipython",
    "version": 3
   },
   "file_extension": ".py",
   "mimetype": "text/x-python",
   "name": "python",
   "nbconvert_exporter": "python",
   "pygments_lexer": "ipython3",
   "version": "3.7.4"
  }
 },
 "nbformat": 4,
 "nbformat_minor": 2
}
