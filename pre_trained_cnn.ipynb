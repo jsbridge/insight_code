{
 "cells": [
  {
   "cell_type": "code",
   "execution_count": 1,
   "metadata": {},
   "outputs": [
    {
     "name": "stderr",
     "output_type": "stream",
     "text": [
      "Using TensorFlow backend.\n"
     ]
    }
   ],
   "source": [
    "from keras.applications.resnet50 import ResNet50\n",
    "from keras.preprocessing.image import ImageDataGenerator \n",
    "\n",
    "from keras_vggface.vggface import VGGFace"
   ]
  },
  {
   "cell_type": "code",
   "execution_count": null,
   "metadata": {},
   "outputs": [],
   "source": [
    "#load the image you'd like to make a prediction for\n",
    "image = load_img(image_path, target_size=(150,150))\n",
    "image = img_to_array(image)\n",
    "image = image/255 #convert to grayscale\n",
    "image = np.expand_dims(image, axis=0)\n",
    "\n",
    "#build the VGG16 network\n",
    "model = VGGFace(model='resnet50')\n",
    "#model = ResNet50(include_top=False, weights='imagenet')\n",
    "\n",
    "#get the bottleneck prediction from the pre-trained VGG16 model\n",
    "bottleneck_prediction = model.predict(image)\n",
    "\n",
    "#build top model\n",
    "model = Sequential()\n",
    "model.add(Flatten(input_shape=bottleneck_prediction.shape[1:]))\n",
    "model.add(Dense(256, activation='relu'))\n",
    "model.add(Dropout(0.5))\n",
    "model.add(Dense(5,activation='sigmoid'))\n",
    "\n",
    "#load the weights you saved after training the top layers\n",
    "model.load_weights('top_model_weights.h5')\n",
    "\n",
    "#plug the bottleneck prediction into the top model to get the final classification\n",
    "class_predicted = model.predict_classes(bottleneck_prediction)\n",
    "\n",
    "#show the result!\n",
    "result = class_predicted[0]\n",
    "print result"
   ]
  }
 ],
 "metadata": {
  "kernelspec": {
   "display_name": "Python 3",
   "language": "python",
   "name": "python3"
  },
  "language_info": {
   "codemirror_mode": {
    "name": "ipython",
    "version": 3
   },
   "file_extension": ".py",
   "mimetype": "text/x-python",
   "name": "python",
   "nbconvert_exporter": "python",
   "pygments_lexer": "ipython3",
   "version": "3.7.4"
  }
 },
 "nbformat": 4,
 "nbformat_minor": 2
}
