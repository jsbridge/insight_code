{
 "cells": [
  {
   "cell_type": "code",
   "execution_count": 1,
   "metadata": {},
   "outputs": [
    {
     "name": "stderr",
     "output_type": "stream",
     "text": [
      "Using TensorFlow backend.\n"
     ]
    }
   ],
   "source": [
    "from keras.applications.resnet50 import ResNet50\n",
    "from keras.preprocessing.image import ImageDataGenerator \n",
    "\n",
    "from keras_vggface.vggface import VGGFace"
   ]
  },
  {
   "cell_type": "code",
   "execution_count": null,
   "metadata": {},
   "outputs": [],
   "source": [
    "#load the image you'd like to make a prediction for\n",
    "image = load_img(image_path, target_size=(150,150))\n",
    "image = img_to_array(image)\n",
    "image = image/255 #convert to grayscale\n",
    "image = np.expand_dims(image, axis=0)\n",
    "\n",
    "#build the VGG16 network\n",
    "model = VGGFace(model='resnet50')\n",
    "#model = ResNet50(include_top=False, weights='imagenet')\n",
    "\n",
    "#get the bottleneck prediction from the pre-trained VGG16 model\n",
    "bottleneck_prediction = model.predict(image)\n",
    "\n",
    "#build top model\n",
    "model = Sequential()\n",
    "model.add(Flatten(input_shape=bottleneck_prediction.shape[1:]))\n",
    "model.add(Dense(256, activation='relu'))\n",
    "model.add(Dropout(0.5))\n",
    "model.add(Dense(5,activation='sigmoid'))\n",
    "\n",
    "#load the weights you saved after training the top layers\n",
    "model.load_weights('top_model_weights.h5')\n",
    "\n",
    "#plug the bottleneck prediction into the top model to get the final classification\n",
    "class_predicted = model.predict_classes(bottleneck_prediction)\n",
    "\n",
    "#show the result!\n",
    "result = class_predicted[0]\n",
    "print(result)"
   ]
  },
  {
   "cell_type": "code",
   "execution_count": null,
   "metadata": {},
   "outputs": [],
   "source": [
    "# from https://towardsdatascience.com/boost-your-cnn-image-\n",
    "#     classifier-performance-with-progressive-resizing-in-keras-a7d96da06e20\n",
    "\n",
    "prior = keras.applications.VGG16(\n",
    "    include_top=False, \n",
    "    weights='imagenet',\n",
    "    input_shape=(48, 48, 3)\n",
    ")\n",
    "model = Sequential()\n",
    "model.add(prior)\n",
    "model.add(Flatten())\n",
    "model.add(Dense(256, activation='relu', name='Dense_Intermediate'))\n",
    "model.add(Dropout(0.1, name='Dropout_Regularization'))\n",
    "model.add(Dense(12, activation='sigmoid', name='Output'))\n",
    "\n",
    "\n",
    "# Freeze the VGG16 model, e.g. do not train any of its weights.\n",
    "# We will just use it as-is.\n",
    "for cnn_block_layer in model.layers[0].layers:\n",
    "    cnn_block_layer.trainable = False\n",
    "model.layers[0].trainable = False\n",
    "\n",
    "\n",
    "# Compile the model. I found that RMSprop with the default learning\n",
    "# weight worked fine.\n",
    "model.compile(\n",
    "    optimizer=RMSprop(),\n",
    "    loss='categorical_crossentropy',\n",
    "    metrics=['accuracy']\n",
    ")\n",
    "\n",
    "#\n",
    "# Step 4: fit the model.\n",
    "#\n",
    "# Finally we fit the model. I use two callbacks here: EarlyStopping,\n",
    "# which stops the model short of its full 20 epochs if validation \n",
    "# performance consistently gets worse; and ReduceLROnPlateau, which \n",
    "# reduces the learning rate 10x at a time when it detects model \n",
    "# performance is no longer improving between epochs.\n",
    "#\n",
    "\n",
    "# Recall that our dataset is highly imbalanced. We deal with this\n",
    "# problem by generating class weights and passing them to the model\n",
    "# at training time. The model will use the class weights to adjust\n",
    "# how it trains so that each class is considered equally important to\n",
    "# get right, even if the actual distribution of images is highly \n",
    "# variable.\n",
    "import os\n",
    "labels_count = dict()\n",
    "for img_class in [ic for ic in os.listdir('images_cropped/') if ic[0] != '.']:\n",
    "    labels_count[img_class] = len(os.listdir('images_cropped/' + img_class))\n",
    "total_count = sum(labels_count.values())\n",
    "class_weights = {cls: total_count / count for cls, count in \n",
    "                 enumerate(labels_count.values())}\n",
    "\n",
    "\n",
    "model.fit_generator(\n",
    "    train_generator,\n",
    "    steps_per_epoch=len(train_generator.filenames) // batch_size,\n",
    "    epochs=20,\n",
    "    validation_data=validation_generator,\n",
    "    validation_steps=len(train_generator.filenames) // batch_size,\n",
    "    class_weight=class_weights,\n",
    "    callbacks=[\n",
    "        EarlyStopping(patience=3, restore_best_weights=True),\n",
    "        ReduceLROnPlateau(patience=2)\n",
    "    ]\n",
    ")"
   ]
  }
 ],
 "metadata": {
  "kernelspec": {
   "display_name": "Python 3",
   "language": "python",
   "name": "python3"
  },
  "language_info": {
   "codemirror_mode": {
    "name": "ipython",
    "version": 3
   },
   "file_extension": ".py",
   "mimetype": "text/x-python",
   "name": "python",
   "nbconvert_exporter": "python",
   "pygments_lexer": "ipython3",
   "version": "3.7.4"
  }
 },
 "nbformat": 4,
 "nbformat_minor": 2
}
