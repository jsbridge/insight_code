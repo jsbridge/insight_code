{
 "cells": [
  {
   "cell_type": "code",
   "execution_count": 1,
   "metadata": {},
   "outputs": [],
   "source": [
    "import pandas as pd\n",
    "import numpy as np\n",
    "import re"
   ]
  },
  {
   "cell_type": "markdown",
   "metadata": {},
   "source": [
    "## Drop duplicate rows and posts with no comments"
   ]
  },
  {
   "cell_type": "code",
   "execution_count": 10,
   "metadata": {},
   "outputs": [],
   "source": [
    "curly_df = pd.read_csv('matched_posts.csv')\n",
    "\n",
    "# Drop duplicates and deleted comments\n",
    "curly_df.drop_duplicates(subset='sub_id', keep = False, inplace = True) \n",
    "curly_df.dropna(subset=['comm_text'], inplace=True)\n",
    "curly_df = curly_df[curly_df['comm_text'] != '[deleted]']\n",
    "curly_df = curly_df[curly_df['comm_text'] != '[removed]]']\n",
    "curly_df.index = range(len(curly_df))\n",
    "#curly_df.head(25)\n",
    "#print(len(curly_df))"
   ]
  },
  {
   "cell_type": "code",
   "execution_count": 11,
   "metadata": {},
   "outputs": [],
   "source": [
    "text = [re.sub(r'http\\S+', '', t) for t in curly_df['comm_text']] # remove links\n",
    "text = [re.sub(r'([0-9]+?)', ' ', t).lower() for t in text] # remove all numbers and symbols\n",
    "text = [re.sub(r'(!|\"|#|\\$|%|&|\\'|\\(|\\)|\\*|\\+|,|-|\\.|/|:|;|<|=|>|\\?|@|\\[|\\\\|\\]|\\^|_|`|{|\\||}|~)+', ' ', t)\n",
    "        for t in text]\n",
    "curly_df['comm_text'] = [re.sub(r'\\s+\\s', ' ', t).strip() for t in text] # repace double spaces with single spaces\n",
    "\n",
    "curly_df['comm_text'] = curly_df['comm_text'].str.split()\n",
    "\n",
    "# keep only strings longer than 3 characters, code isn't working\n",
    "#curly_df = curly_df.loc[curly_df['comm_text'].map(len) > 2].reset_index(drop = True) \n",
    "#print(curly_df['comm_text'][42])\n"
   ]
  },
  {
   "cell_type": "markdown",
   "metadata": {},
   "source": [
    "## Get products"
   ]
  },
  {
   "cell_type": "code",
   "execution_count": 12,
   "metadata": {},
   "outputs": [
    {
     "data": {
      "text/html": [
       "<div>\n",
       "<style scoped>\n",
       "    .dataframe tbody tr th:only-of-type {\n",
       "        vertical-align: middle;\n",
       "    }\n",
       "\n",
       "    .dataframe tbody tr th {\n",
       "        vertical-align: top;\n",
       "    }\n",
       "\n",
       "    .dataframe thead th {\n",
       "        text-align: right;\n",
       "    }\n",
       "</style>\n",
       "<table border=\"1\" class=\"dataframe\">\n",
       "  <thead>\n",
       "    <tr style=\"text-align: right;\">\n",
       "      <th></th>\n",
       "      <th>product</th>\n",
       "      <th>type</th>\n",
       "    </tr>\n",
       "  </thead>\n",
       "  <tbody>\n",
       "    <tr>\n",
       "      <td>0</td>\n",
       "      <td>As I Am Cleansing Pudding</td>\n",
       "      <td>shampoo</td>\n",
       "    </tr>\n",
       "    <tr>\n",
       "      <td>1</td>\n",
       "      <td>Bobeam Shampoo Bars</td>\n",
       "      <td>shampoo</td>\n",
       "    </tr>\n",
       "    <tr>\n",
       "      <td>2</td>\n",
       "      <td>Chagrin Valley Shampoo Bars</td>\n",
       "      <td>shampoo</td>\n",
       "    </tr>\n",
       "    <tr>\n",
       "      <td>3</td>\n",
       "      <td>Desert Essence Coconut Shampoo</td>\n",
       "      <td>shampoo</td>\n",
       "    </tr>\n",
       "    <tr>\n",
       "      <td>4</td>\n",
       "      <td>Desert Essence No Fragrance Shampoo</td>\n",
       "      <td>shampoo</td>\n",
       "    </tr>\n",
       "    <tr>\n",
       "      <td>5</td>\n",
       "      <td>DevaCurl LowPoo (Delight and Original)</td>\n",
       "      <td>shampoo</td>\n",
       "    </tr>\n",
       "    <tr>\n",
       "      <td>6</td>\n",
       "      <td>DevaCurl NoPoo (Original and Decadence)</td>\n",
       "      <td>shampoo</td>\n",
       "    </tr>\n",
       "    <tr>\n",
       "      <td>7</td>\n",
       "      <td>Eden Bodyworks Peppermint Tea Tree Shampoo</td>\n",
       "      <td>shampoo</td>\n",
       "    </tr>\n",
       "    <tr>\n",
       "      <td>8</td>\n",
       "      <td>Enjoy Sulfate-free Hydrating Shampoo</td>\n",
       "      <td>shampoo</td>\n",
       "    </tr>\n",
       "    <tr>\n",
       "      <td>9</td>\n",
       "      <td>Everyday Shea Shampoos</td>\n",
       "      <td>shampoo</td>\n",
       "    </tr>\n",
       "  </tbody>\n",
       "</table>\n",
       "</div>"
      ],
      "text/plain": [
       "                                      product     type\n",
       "0                   As I Am Cleansing Pudding  shampoo\n",
       "1                         Bobeam Shampoo Bars  shampoo\n",
       "2                 Chagrin Valley Shampoo Bars  shampoo\n",
       "3              Desert Essence Coconut Shampoo  shampoo\n",
       "4         Desert Essence No Fragrance Shampoo  shampoo\n",
       "5      DevaCurl LowPoo (Delight and Original)  shampoo\n",
       "6     DevaCurl NoPoo (Original and Decadence)  shampoo\n",
       "7  Eden Bodyworks Peppermint Tea Tree Shampoo  shampoo\n",
       "8        Enjoy Sulfate-free Hydrating Shampoo  shampoo\n",
       "9                      Everyday Shea Shampoos  shampoo"
      ]
     },
     "execution_count": 12,
     "metadata": {},
     "output_type": "execute_result"
    }
   ],
   "source": [
    "products = pd.read_csv('curly_products.csv')\n",
    "products.rename(columns={\"Unnamed: 0\": \"product\", \"Unnamed: 1\": \"type\"}, inplace=True)\n",
    "products.drop(columns=['Unnamed: 2','Unnamed: 3','Unnamed: 4'], inplace=True)\n",
    "products.head(10)"
   ]
  },
  {
   "cell_type": "code",
   "execution_count": null,
   "metadata": {},
   "outputs": [],
   "source": [
    "for product in products['product']:\n",
    "    "
   ]
  }
 ],
 "metadata": {
  "kernelspec": {
   "display_name": "Python 3",
   "language": "python",
   "name": "python3"
  },
  "language_info": {
   "codemirror_mode": {
    "name": "ipython",
    "version": 3
   },
   "file_extension": ".py",
   "mimetype": "text/x-python",
   "name": "python",
   "nbconvert_exporter": "python",
   "pygments_lexer": "ipython3",
   "version": "3.7.4"
  }
 },
 "nbformat": 4,
 "nbformat_minor": 2
}
